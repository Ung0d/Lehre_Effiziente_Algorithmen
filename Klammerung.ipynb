{
 "cells": [
  {
   "cell_type": "code",
   "execution_count": 3,
   "metadata": {},
   "outputs": [
    {
     "name": "stdout",
     "output_type": "stream",
     "text": [
      "Die minimal benötigte Menge an Operationen beträgt 288.0\n",
      "Dabei verwendete Klammerung: ((((((A_0)(((A_1)(A_2))((A_3)(A_4))))(A_5))(A_6))(A_7))(A_8))(A_9)\n"
     ]
    }
   ],
   "source": [
    "import numpy as np\n",
    "n = 10\n",
    "p = [1, 9, 3, 33, 1, 2, 11, 4, 10, 5, 1]\n",
    "m = np.zeros((n, n))\n",
    "klammern = []\n",
    "#make two-dimensional string array that's initialized everywhere\n",
    "for i in range(n):\n",
    "    h = []\n",
    "    for j in range(n):\n",
    "        h.append(\"A_{}\".format(i))\n",
    "    klammern.append(h)\n",
    "for d in range(1, n):\n",
    "    for i in range(n-d):\n",
    "        j = i+d\n",
    "        arrK = []\n",
    "        for k in range(i, j):\n",
    "            arrK.append(m[i,k]+m[k+1,j]+p[i-1]*p[k]*p[j])\n",
    "        m[i][j] = min(arrK)\n",
    "        K = np.argmin(arrK)+i\n",
    "        klammern[i][j] = \"(\" + klammern[i][K] + \")(\" + klammern[K+1][j] + \")\"\n",
    "print(\"Die minimal benötigte Menge an Operationen beträgt {}\".format(m[0][n-1]))\n",
    "print(\"Dabei verwendete Klammerung: {}\".format(klammern[0][n-1]))"
   ]
  }
 ],
 "metadata": {
  "kernelspec": {
   "display_name": "Python 3",
   "language": "python",
   "name": "python3"
  },
  "language_info": {
   "codemirror_mode": {
    "name": "ipython",
    "version": 3
   },
   "file_extension": ".py",
   "mimetype": "text/x-python",
   "name": "python",
   "nbconvert_exporter": "python",
   "pygments_lexer": "ipython3",
   "version": "3.8.5"
  }
 },
 "nbformat": 4,
 "nbformat_minor": 4
}
