{
 "cells": [
  {
   "cell_type": "markdown",
   "metadata": {},
   "source": [
    "# Experimente mit DFS (python3, networkx)\n",
    "\n",
    "### Einen gerichteten Graphen erstellen und darstellen:"
   ]
  },
  {
   "cell_type": "code",
   "execution_count": 18,
   "metadata": {},
   "outputs": [
    {
     "data": {
      "image/png": "[encoded data removed]",
      "text/plain": [
       "<Figure size 432x288 with 1 Axes>"
      ]
     },
     "metadata": {},
     "output_type": "display_data"
    }
   ],
   "source": [
    "import networkx as nx\n",
    "import numpy as np\n",
    "\n",
    "np.random.seed(14)\n",
    "\n",
    "n = 10\n",
    "p = 0.1\n",
    "\n",
    "G = nx.DiGraph()\n",
    "edgelist = [(u,v) for u in range(n) for v in range(n) if np.random.random() < p]\n",
    "G.add_edges_from(edgelist)\n",
    "\n",
    "nx.draw(G, with_labels=True, node_color=\"y\")"
   ]
  },
  {
   "cell_type": "markdown",
   "metadata": {},
   "source": [
    "### Baum im DFS-Wald ausgeben, der in \"source\" gewurzelt ist:"
   ]
  },
  {
   "cell_type": "code",
   "execution_count": null,
   "metadata": {},
   "outputs": [],
   "source": [
    "T = nx.dfs_tree(G, source=6)\n",
    "\n",
    "nx.draw(T, with_labels=True, node_color=\"y\")"
   ]
  },
  {
   "cell_type": "markdown",
   "metadata": {},
   "source": [
    "### Knoten in Reihenfolge ihrer Entdeckung (Fertigstellung) ausgeben:"
   ]
  },
  {
   "cell_type": "code",
   "execution_count": 19,
   "metadata": {},
   "outputs": [
    {
     "name": "stdout",
     "output_type": "stream",
     "text": [
      "[6, 9, 7, 8, 1, 3]\n",
      "[3, 1, 8, 7, 9, 6]\n"
     ]
    }
   ],
   "source": [
    "u = 6\n",
    "print(list(nx.dfs_preorder_nodes(G, source=u)))\n",
    "print(list(nx.dfs_postorder_nodes(G, source=u)))"
   ]
  },
  {
   "cell_type": "markdown",
   "metadata": {},
   "source": [
    "### Stark zusammenhängende Komponenten mit Hilfe von DFS finden:"
   ]
  },
  {
   "cell_type": "code",
   "execution_count": 24,
   "metadata": {},
   "outputs": [
    {
     "name": "stdout",
     "output_type": "stream",
     "text": [
      "Fnishing times:  [1, 3, 0, 4, 8, 7, 9, 6]\n",
      "Strongly connected components:\n",
      "[6, 8, 7, 9]\n",
      "[4]\n",
      "[0]\n",
      "[3, 1]\n"
     ]
    }
   ],
   "source": [
    "# ordne die Knoten anhand ihrer DFS finishing times\n",
    "finish = list(nx.dfs_postorder_nodes(G))\n",
    "print(\"Fnishing times: \", finish)\n",
    "\n",
    "#kehre alle Kantenrichtungen um\n",
    "G_rev = G.reverse(copy=True)\n",
    "\n",
    "print(\"Strongly connected components:\")\n",
    "\n",
    "done = np.zeros(n, dtype=bool)\n",
    "while len(finish) > 0:\n",
    "    s = finish.pop()\n",
    "    if done[s]:\n",
    "        continue\n",
    "    tree_nodes = nx.dfs_tree(G_rev, source=s).nodes()\n",
    "    scc = []\n",
    "    for u in tree_nodes:\n",
    "        if not done[u]:\n",
    "            scc.append(u)\n",
    "        done[u] = True\n",
    "    print(scc)"
   ]
  },
  {
   "cell_type": "markdown",
   "metadata": {},
   "source": [
    "### Python Klassen:"
   ]
  },
  {
   "cell_type": "code",
   "execution_count": null,
   "metadata": {},
   "outputs": [],
   "source": [
    "WHITE, GREY, BLACK = 0,1,2\n",
    "\n",
    "class Node:\n",
    "    def __init__(self):\n",
    "        self.adjacents = [] #< leere Liste\n",
    "        self.color = WHITE \n",
    "    \n",
    "    def add_neighbor(self, u):\n",
    "        self.adjacents.append(u)"
   ]
  },
  {
   "cell_type": "markdown",
   "metadata": {},
   "source": [
    "### Iterieren:"
   ]
  },
  {
   "cell_type": "code",
   "execution_count": null,
   "metadata": {},
   "outputs": [],
   "source": [
    "n = Node()\n",
    "n.add_neihgbor(...)\n",
    "for u in n.adjacents():\n",
    "    print(u.color)"
   ]
  }
 ],
 "metadata": {
  "kernelspec": {
   "display_name": "Python 3",
   "language": "python",
   "name": "python3"
  },
  "language_info": {
   "codemirror_mode": {
    "name": "ipython",
    "version": 3
   },
   "file_extension": ".py",
   "mimetype": "text/x-python",
   "name": "python",
   "nbconvert_exporter": "python",
   "pygments_lexer": "ipython3",
   "version": "3.9.2"
  }
 },
 "nbformat": 4,
 "nbformat_minor": 4
}
