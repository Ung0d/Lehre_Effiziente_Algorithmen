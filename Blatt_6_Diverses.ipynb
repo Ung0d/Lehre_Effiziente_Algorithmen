{
 "cells": [
  {
   "cell_type": "markdown",
   "metadata": {},
   "source": [
    "### Lösung zu Blatt 5 Aufgabe 1"
   ]
  },
  {
   "cell_type": "code",
   "execution_count": 59,
   "metadata": {},
   "outputs": [
    {
     "name": "stdout",
     "output_type": "stream",
     "text": [
      "Linear:\n",
      "[22, 88, -1, -1, 4, 15, 28, 17, 59, 31, 10]\n",
      "Number of fails =  7\n",
      "Quadratic:\n",
      "[22, -1, 88, 17, 4, -1, 28, 59, 15, 31, 10]\n",
      "Number of fails =  14\n",
      "Double:\n",
      "[22, -1, 59, 17, 4, 15, 28, 88, -1, 31, 10]\n",
      "Number of fails =  7\n",
      "Linear average fails =  1.22344\n",
      "Quadratic average fails =  1.21238\n",
      "Double average fails =  1.13655\n"
     ]
    }
   ],
   "source": [
    "import numpy as np\n",
    "\n",
    "m = 11\n",
    "keys = [10,22,31,4,15,28,17,88,59]\n",
    "\n",
    "#hashfunctions\n",
    "def h(k):\n",
    "    return k % m\n",
    "\n",
    "def h2(k):\n",
    "    return 1 + (k % (m-1))\n",
    "\n",
    "\n",
    "#probing functions\n",
    "def linear(i, k):\n",
    "    return (h(k)+i) % m\n",
    "\n",
    "def quadratic(i, k):\n",
    "    return (h(k) + i + 3*i*i) % m\n",
    "\n",
    "def double(i, k):\n",
    "    return (h(k) + i*h2(k)) % m #why is this a permutation of all m slots?\n",
    "\n",
    "\n",
    "#testing\n",
    "def insert_keys(probing, keys, m):\n",
    "    HT = [-1]*m\n",
    "    num_fails = 0\n",
    "    for k in keys:\n",
    "        for i in range(m):\n",
    "            j = probing(i, k)\n",
    "            if HT[j] == -1:\n",
    "                HT[j] = k\n",
    "                break\n",
    "            else:\n",
    "                num_fails += 1\n",
    "    return HT, num_fails\n",
    "    \n",
    "\n",
    "print(\"Linear:\")\n",
    "HT, num_fails = insert_keys(linear, keys, m)\n",
    "print(HT)\n",
    "print(\"Number of fails = \", num_fails)\n",
    "print(\"Quadratic:\")\n",
    "HT, num_fails = insert_keys(quadratic, keys, m)\n",
    "print(HT)\n",
    "print(\"Number of fails = \", num_fails)\n",
    "print(\"Double:\")\n",
    "HT, num_fails = insert_keys(double, keys, m)\n",
    "print(HT)\n",
    "print(\"Number of fails = \", num_fails)\n",
    "\n",
    "\n",
    "#iters-mal ein Zufallsexperiment durchführen und Ergebnisse mitteln:\n",
    "#5 i.i.d. Zahlen aus range(60) ziehen und mit allen 3 probings in eine \n",
    "#Hashtabelle der Größe m=11 einfügen\n",
    "iters = 100000\n",
    "sum_fails_linear = 0\n",
    "sum_fails_quadratic = 0\n",
    "sum_fails_double = 0\n",
    "for _ in range(iters):\n",
    "    keys = np.random.randint(60, size=5)\n",
    "    _, fl = insert_keys(linear, keys, m)\n",
    "    _, fq = insert_keys(quadratic, keys, m)\n",
    "    _, fd = insert_keys(double, keys, m)\n",
    "    sum_fails_linear += fl\n",
    "    sum_fails_quadratic += fq\n",
    "    sum_fails_double += fd\n",
    "print(\"Linear average fails = \", sum_fails_linear/iters)\n",
    "print(\"Quadratic average fails = \", sum_fails_quadratic/iters)\n",
    "print(\"Double average fails = \", sum_fails_double/iters)"
   ]
  },
  {
   "cell_type": "markdown",
   "metadata": {},
   "source": [
    "### Effekt von Hashtable-size Reservierungen Aufgabe 2"
   ]
  },
  {
   "cell_type": "code",
   "execution_count": 22,
   "metadata": {},
   "outputs": [
    {
     "data": {
      "image/png": "[encoded data removed]",
      "text/plain": [
       "<Figure size 432x288 with 2 Axes>"
      ]
     },
     "metadata": {
      "needs_background": "light"
     },
     "output_type": "display_data"
    }
   ],
   "source": [
    "import matplotlib.pyplot as plt\n",
    "\n",
    "#n = Anzahl Einfügungen, m = Anzahl Suchen\n",
    "#jeweils m = 100 fest, Suchen hat kaum Effekt auf Zeit\n",
    "\n",
    "n = [900, 2700, 8100, 24300, 72900, 218700, 656100]\n",
    "t1 = [330, 878, 2808, 7832, 25993, 83820, 404569]\n",
    "t2 = [240, 686, 2198, 6046, 18371, 74122, 275105]\n",
    "\n",
    "f, (ax1, ax2) = plt.subplots(1, 2, sharey=True)\n",
    "ax1.set_title('No reserve')\n",
    "ax2.set_title('Reserve(n)')\n",
    "ax1.plot(n, t1)\n",
    "ax2.plot(n, t2)\n",
    "\n",
    "plt.show()\n",
    "\n",
    "#Man kann in C++ mit set.reserve(n) die Größe der Hashtabelle reservieren,\n",
    "#wenn man die Anzahl der Einfügungen n vorher abschätzen kann.\n",
    "#Ohne Reservierung der Tabellengröße (links), ist der Trend steiler,\n",
    "#weil eine Einfügung eine Regeneration (Tabelle vergrößert sich) bewirken kann.\n",
    "#Dann müssen alle bisher eingefügten Elemente kopiert werden.\n",
    "#Im worst case ist das quadratisch!"
   ]
  },
  {
   "cell_type": "code",
   "execution_count": null,
   "metadata": {},
   "outputs": [],
   "source": []
  }
 ],
 "metadata": {
  "kernelspec": {
   "display_name": "Python 3",
   "language": "python",
   "name": "python3"
  },
  "language_info": {
   "codemirror_mode": {
    "name": "ipython",
    "version": 3
   },
   "file_extension": ".py",
   "mimetype": "text/x-python",
   "name": "python",
   "nbconvert_exporter": "python",
   "pygments_lexer": "ipython3",
   "version": "3.9.2"
  }
 },
 "nbformat": 4,
 "nbformat_minor": 4
}
