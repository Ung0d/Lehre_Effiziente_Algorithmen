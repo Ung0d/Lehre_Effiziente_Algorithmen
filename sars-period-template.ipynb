{
 "cells": [
  {
   "cell_type": "markdown",
   "metadata": {},
   "source": [
    "# Detect Periodicity in SARS-CoV-2 Incidence Values"
   ]
  },
  {
   "cell_type": "code",
   "execution_count": 2,
   "metadata": {},
   "outputs": [],
   "source": [
    "import pandas as pd\n",
    "import numpy as np\n",
    "import matplotlib.pyplot as plt"
   ]
  },
  {
   "cell_type": "markdown",
   "metadata": {},
   "source": [
    "## Data from Vorpommern Greifswald\n",
    "Downloaded on December 1st, 2020, from https://www.arcgis.com.  \n",
    "\n",
    "column 1: number of cases  \n",
    "column 2: date  (several rows per date common)  \n",
    "column 3: number of days since case until December 1st, 2020  "
   ]
  },
  {
   "cell_type": "code",
   "execution_count": 3,
   "metadata": {},
   "outputs": [],
   "source": [
    "C = pd.read_table(\"vpg-1Dez20.tbl\", names = [\"cases\", \"date\", \"days_since\"], dtype = {\"cases\" : 'int', \"days_since\": 'int'})"
   ]
  },
  {
   "cell_type": "code",
   "execution_count": 4,
   "metadata": {},
   "outputs": [
    {
     "data": {
      "text/plain": [
       "273"
      ]
     },
     "execution_count": 4,
     "metadata": {},
     "output_type": "execute_result"
    }
   ],
   "source": [
    "n_max = max(C[\"days_since\"])\n",
    "n_max # days since first case"
   ]
  },
  {
   "cell_type": "code",
   "execution_count": 6,
   "metadata": {},
   "outputs": [
    {
     "data": {
      "text/plain": [
       "array([27, 33, 24, 20, 35,  9, 15, 42, 41, 30, 32, 31,  5, 14, 19, 30, 58,\n",
       "       42, 14,  4, 10, 18, 52, 35, 33, 20,  2, 21, 22, 37, 23, 36, 36, 24,\n",
       "        7])"
      ]
     },
     "execution_count": 6,
     "metadata": {},
     "output_type": "execute_result"
    }
   ],
   "source": [
    "# add up the number of cases per day\n",
    "a = np.zeros(n_max, dtype='int')\n",
    "for row in C.itertuples():\n",
    "    cases = row.cases\n",
    "    days = row.days_since\n",
    "    a[n_max-days] += cases\n",
    "\n",
    "n = 35 # take the last 5 weeks only\n",
    "a = a[-n:]\n",
    "a"
   ]
  },
  {
   "cell_type": "code",
   "execution_count": 7,
   "metadata": {},
   "outputs": [
    {
     "data": {
      "image/png": "[encoded data removed]",
      "text/plain": [
       "<Figure size 864x432 with 1 Axes>"
      ]
     },
     "metadata": {
      "needs_background": "light"
     },
     "output_type": "display_data"
    }
   ],
   "source": [
    "plt.subplots(figsize=(12,6))\n",
    "plt.bar(range(len(a)), a);\n",
    "plt.title(\"Positive SARS-CoV-2 tests in Vorpommern Greifswald in the days up to December 1st, 2020\")\n",
    "plt.savefig(\"sars-VG-1Dec20.pdf\")"
   ]
  },
  {
   "cell_type": "markdown",
   "metadata": {},
   "source": [
    "### Convolution\n",
    "$$c_i:=\\sum_{k\\in\\mathbb{Z}} a_k b_{i-k}\\qquad (i=0,\\ldots, n+m-2)$$"
   ]
  },
  {
   "cell_type": "code",
   "execution_count": 8,
   "metadata": {},
   "outputs": [],
   "source": [
    "def convolve(a,b):\n",
    "    \"\"\" Compute the convolution in time O(nm) \"\"\"\n",
    "    n = len(a)\n",
    "    m = len(b)\n",
    "    c = np.zeros(n + m - 1, dtype = 'int')\n",
    "    for i in range(n):\n",
    "        for j in range(m):\n",
    "            c[i+j] += a[i] * b[j]\n",
    "    return c"
   ]
  },
  {
   "cell_type": "markdown",
   "metadata": {},
   "source": [
    "# Find Period\n",
    "First normalize $a$ to zero-mean. Then compute the cross-correlation of $a$ with itself."
   ]
  },
  {
   "cell_type": "code",
   "execution_count": 9,
   "metadata": {},
   "outputs": [
    {
     "name": "stdout",
     "output_type": "stream",
     "text": [
      "a reversed and normalized:  [ 7 24 36 36 23 37 22 21  2 20 33 35 52 18 10  4 14 42 58 30 19 14  5 31\n",
      " 32 30 41 42 15  9 35 20 24 33 27]\n"
     ]
    }
   ],
   "source": [
    "#a = a - np.mean(a).astype('int')\n",
    "\n",
    "b = a_rev = np.flip(a) # reverse the order of one copy\n",
    "print (\"a reversed and normalized: \", a_rev)"
   ]
  },
  {
   "cell_type": "code",
   "execution_count": 10,
   "metadata": {},
   "outputs": [
    {
     "data": {
      "text/plain": [
       "array([  189,   879,  1932,  2876,  3398,  4245,  4668,  4879,  4979,\n",
       "        6298,  7399,  8549,  9848, 10352,  9572,  8584,  9572, 11092,\n",
       "       14137, 15593, 15373, 14715, 13703, 13490, 14680, 17784, 19771,\n",
       "       21937, 21204, 18507, 17198, 18266, 20666, 24884, 29363, 24884,\n",
       "       20666, 18266, 17198, 18507, 21204, 21937, 19771, 17784, 14680,\n",
       "       13490, 13703, 14715, 15373, 15593, 14137, 11092,  9572,  8584,\n",
       "        9572, 10352,  9848,  8549,  7399,  6298,  4979,  4879,  4668,\n",
       "        4245,  3398,  2876,  1932,   879,   189])"
      ]
     },
     "execution_count": 10,
     "metadata": {},
     "output_type": "execute_result"
    }
   ],
   "source": [
    "c = convolve(a, b) # = cross-correlation of a with itself\n",
    "c"
   ]
  },
  {
   "cell_type": "code",
   "execution_count": 11,
   "metadata": {},
   "outputs": [
    {
     "ename": "NameError",
     "evalue": "name 'mode' is not defined",
     "output_type": "error",
     "traceback": [
      "\u001b[0;31m\u001b[0m",
      "\u001b[0;31mNameError\u001b[0mTraceback (most recent call last)",
      "\u001b[0;32m<ipython-input-11-f204ac151e5d>\u001b[0m in \u001b[0;36m<module>\u001b[0;34m\u001b[0m\n\u001b[1;32m      2\u001b[0m \u001b[0mplt\u001b[0m\u001b[0;34m.\u001b[0m\u001b[0msubplots\u001b[0m\u001b[0;34m(\u001b[0m\u001b[0mfigsize\u001b[0m \u001b[0;34m=\u001b[0m \u001b[0;34m(\u001b[0m\u001b[0;36m12\u001b[0m\u001b[0;34m,\u001b[0m\u001b[0;36m6\u001b[0m\u001b[0;34m)\u001b[0m\u001b[0;34m)\u001b[0m\u001b[0;34m\u001b[0m\u001b[0;34m\u001b[0m\u001b[0m\n\u001b[1;32m      3\u001b[0m \u001b[0mplt\u001b[0m\u001b[0;34m.\u001b[0m\u001b[0mbar\u001b[0m\u001b[0;34m(\u001b[0m\u001b[0mrange\u001b[0m\u001b[0;34m(\u001b[0m\u001b[0mlen\u001b[0m\u001b[0;34m(\u001b[0m\u001b[0mc\u001b[0m\u001b[0;34m)\u001b[0m\u001b[0;34m)\u001b[0m\u001b[0;34m,\u001b[0m \u001b[0mc\u001b[0m\u001b[0;34m)\u001b[0m\u001b[0;34m\u001b[0m\u001b[0;34m\u001b[0m\u001b[0m\n\u001b[0;32m----> 4\u001b[0;31m \u001b[0mplt\u001b[0m\u001b[0;34m.\u001b[0m\u001b[0mtitle\u001b[0m\u001b[0;34m(\u001b[0m\u001b[0;34m\"cross correlation\\nmode at \"\u001b[0m \u001b[0;34m+\u001b[0m \u001b[0mstr\u001b[0m\u001b[0;34m(\u001b[0m\u001b[0mmode\u001b[0m\u001b[0;34m)\u001b[0m\u001b[0;34m)\u001b[0m\u001b[0;34m\u001b[0m\u001b[0;34m\u001b[0m\u001b[0m\n\u001b[0m\u001b[1;32m      5\u001b[0m \u001b[0mplt\u001b[0m\u001b[0;34m.\u001b[0m\u001b[0msavefig\u001b[0m\u001b[0;34m(\u001b[0m\u001b[0;34m\"cross-corr.pdf\"\u001b[0m\u001b[0;34m)\u001b[0m\u001b[0;34m\u001b[0m\u001b[0;34m\u001b[0m\u001b[0m\n",
      "\u001b[0;31mNameError\u001b[0m: name 'mode' is not defined"
     ]
    },
    {
     "data": {
      "image/png": "[encoded data removed]",
      "text/plain": [
       "<Figure size 864x432 with 1 Axes>"
      ]
     },
     "metadata": {
      "needs_background": "light"
     },
     "output_type": "display_data"
    }
   ],
   "source": [
    "# plot c\n",
    "plt.subplots(figsize = (12,6))\n",
    "plt.bar(range(len(c)), c)\n",
    "plt.title(\"cross correlation\\nmode at \" + str(mode))\n",
    "plt.savefig(\"cross-corr.pdf\")"
   ]
  },
  {
   "cell_type": "markdown",
   "metadata": {},
   "source": [
    "## Correspondence between an entry $j$ in $c$ and a shift\n",
    "$$c_i:=\\sum_k a_k b_{i-k} = \\sum_k a_k a_{n-1- (i-k)} =  \\sum_k a_k a_{k + n-1 -i)} $$ \n",
    "Therefore, a peak at $i$ corresponds to a shift of $a$ relative to itself by $n-1-i$."
   ]
  },
  {
   "cell_type": "code",
   "execution_count": 12,
   "metadata": {},
   "outputs": [
    {
     "data": {
      "text/plain": [
       "array([  0,  -1,   1,  -7,   7,   6,  -6,  -2,   2,  -8,   8,  -5,   5,\n",
       "        -3,   3,  -9,   9,   4,  -4, -15,  15, -14,  14, -13,  13, -10,\n",
       "        10, -16,  16,  12, -12, -11,  11,  17, -17,  21, -21,  22, -22,\n",
       "       -18, -20,  18,  20, -19,  19, -23,  23, -24,  24, -25,  25, -26,\n",
       "        26, -27,  27, -28,  28,  29, -29, -30,  30, -31,  31, -32,  32,\n",
       "        33, -33,  34, -34])"
      ]
     },
     "execution_count": 12,
     "metadata": {},
     "output_type": "execute_result"
    }
   ],
   "source": [
    "peaks = np.argsort(-c) # sort indices by decreasing value\n",
    "periods = n - 1 - peaks\n",
    "periods"
   ]
  },
  {
   "cell_type": "code",
   "execution_count": 75,
   "metadata": {},
   "outputs": [
    {
     "name": "stdout",
     "output_type": "stream",
     "text": [
      "Candidate for periodicity: 7\n"
     ]
    }
   ],
   "source": [
    "print (\"Candidate for periodicity:\", abs(periods[1]))"
   ]
  },
  {
   "cell_type": "code",
   "execution_count": null,
   "metadata": {},
   "outputs": [],
   "source": []
  }
 ],
 "metadata": {
  "kernelspec": {
   "display_name": "Python 3",
   "language": "python",
   "name": "python3"
  },
  "language_info": {
   "codemirror_mode": {
    "name": "ipython",
    "version": 3
   },
   "file_extension": ".py",
   "mimetype": "text/x-python",
   "name": "python",
   "nbconvert_exporter": "python",
   "pygments_lexer": "ipython3",
   "version": "3.8.5"
  }
 },
 "nbformat": 4,
 "nbformat_minor": 4
}
