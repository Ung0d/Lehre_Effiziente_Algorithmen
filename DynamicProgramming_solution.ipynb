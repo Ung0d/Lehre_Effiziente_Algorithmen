{
 "cells": [
  {
   "cell_type": "markdown",
   "metadata": {},
   "source": [
    "## Rod cutting problem\n",
    "\n",
    "Consider the problem of cutting steel rods into pieces.\n",
    "\n",
    "Lets assume we produce steel rods of length $n$ meters and we have a machine that is able to cut them into smaller pieces. We can only cut at integer positions i.e. at $1,2,3,\\dots$ meters. We can cut up to $n-1$ times and each cut is free.\n",
    "\n",
    "Given a table of prices $p_i$ for steel rods of length $i$, determine the maximum revenue and the corresponding cutting positions one can obtain by selling the pieces.\n",
    "\n",
    "Notes:\n",
    "- if $p_n$ is large enough an optimal solution could be not cutting at all\n",
    "- there are $2^{n-1}$ ways of cutting each rod since each position is independent, we can therefore not try all\n",
    "\n",
    "How can dynamic programming be used to solve this problem? Try to follow this sequence of steps:\n",
    "\n",
    "1. Characterize the structure of an optimal solution\n",
    "2. Recursively define the value of an optimal solution\n",
    "3. Compute the value of an optimal solution, typically bottom-up\n",
    "4. Construct an optimal solution from computed information\n",
    "\n",
    "Describe and proof your algorithm first on paper, then implement it below."
   ]
  },
  {
   "cell_type": "code",
   "execution_count": 8,
   "metadata": {},
   "outputs": [
    {
     "data": {
      "text/plain": [
       "56"
      ]
     },
     "execution_count": 8,
     "metadata": {},
     "output_type": "execute_result"
    }
   ],
   "source": [
    "import math\n",
    "\n",
    "#list of prices, i.e. p[i] = price for a rod of length i+1\n",
    "p = [1, 5, 8, 9, 10, 17, 17, 20, 24, 25] \n",
    "\n",
    "# a simple start: Returns the maximal revenue for a rod of length n with prices p\n",
    "# if you have found a recursion formula, insert it and try it out\n",
    "# if it works correctly, you may find that the implementation is not efficient.. \n",
    "# why? Can you improve it?\n",
    "def cut_rod_simple(p, n):\n",
    "    if n == 0:\n",
    "        return 0\n",
    "    q = -math.inf\n",
    "    for i in range(n):\n",
    "        q = max(q, ## YOUR RECURSION HERE ##)\n",
    "    return q\n",
    "\n",
    "cut_rod_simple(p, len(p))"
   ]
  },
  {
   "cell_type": "markdown",
   "metadata": {},
   "source": [
    "## String breaking Problem\n",
    "\n",
    "Suppose you have a string $S$ of length $n$ and an ascending array of positions in $S$ at which to break the string into substrings. You have a method than breaks a string at a single position and since it has to copy all characters it has cost $n$. When breaking at more than one position, the number of copy operations depends on the ordering of the breaks. For instance, breaking a string of length 20 at 2, 8, 10 requires 50 copy operations whereas 10, 8, 2 only requires 38.\n",
    "\n",
    "Find a Dynamic Programming solution to minimize the number of copy operations and find an optimal ordering of the breaking points.\n",
    "\n",
    "Again, describe and proof your algorithm first on paper, then implement it below."
   ]
  },
  {
   "cell_type": "code",
   "execution_count": 31,
   "metadata": {},
   "outputs": [
    {
     "data": {
      "text/plain": [
       "(225, [7, 3, 1, 2, 5, 4, 6, 10, 9, 8])"
      ]
     },
     "execution_count": 31,
     "metadata": {},
     "output_type": "execute_result"
    }
   ],
   "source": [
    "import numpy as np\n",
    "\n",
    "S = \"letsbreakthissentence\"\n",
    "b = [4, 9, 13]\n",
    "\n",
    "n = len(S)\n",
    "\n",
    "#helper function that recursively fills C and F\n",
    "#uses memoization to prevent computing solutions of subproblems multiple times\n",
    "def string_break_util(S, b, i, j, C, F):\n",
    "    if i+1 >= j:\n",
    "        return 0,-1\n",
    "    c = math.inf\n",
    "    f = None\n",
    "    for k in range(i+1, j):\n",
    "        #compute if not memoized already\n",
    "        if C[i,k] == 0:\n",
    "            string_break_util(S, b, i, k, C, F)\n",
    "        if C[k,j] == 0:\n",
    "            string_break_util(S, b, k, j, C, F)\n",
    "        \n",
    "        _c = C[i,k] + C[k,j] + b[j] - b[i+1]\n",
    "        if _c < c:\n",
    "            c = _c\n",
    "            f = k\n",
    "    C[i,j], F[i,j] = c,f\n",
    "    return c,f\n",
    "        \n",
    "        \n",
    "        \n",
    "def find_seq(F, i, j, s):\n",
    "    if F[i,j] != -1:\n",
    "        s.append(F[i,j])\n",
    "        # the order of the calls below does affect the ordering of s, but\n",
    "        # not the optimality of the solution\n",
    "        find_seq(F, i, F[i,j], s) \n",
    "        find_seq(F, F[i,j], j, s)\n",
    "        \n",
    "#returns min cost and the optimal sequence of cuts as a list\n",
    "def string_break(S, b):\n",
    "    C = np.zeros((len(b)+2, len(b)+2), dtype=int)\n",
    "    F = -np.ones((len(b)+2, len(b)+2), dtype=int) #F[i,j] = index of first split in S[i+1...j]\n",
    "    string_break_util(S, [-1]+b+[len(S)-1], 0, len(b)+1, C, F)\n",
    "    seq = []\n",
    "    find_seq(F, 0, len(b)+1, seq)\n",
    "    return C[0,len(b)+1], seq\n",
    "    \n",
    "string_break(S, b)\n",
    "\n",
    "\n",
    "## To practice: This algorithm can also be implemented bottom-up\n",
    "## (no recursive calls and maybe even cleaner to read)\n",
    "## Try it!"
   ]
  },
  {
   "cell_type": "code",
   "execution_count": 13,
   "metadata": {},
   "outputs": [
    {
     "name": "stdout",
     "output_type": "stream",
     "text": [
      "3000\n"
     ]
    }
   ],
   "source": [
    "import sys\n",
    "print(sys.getrecursionlimit())"
   ]
  },
  {
   "cell_type": "code",
   "execution_count": null,
   "metadata": {},
   "outputs": [],
   "source": []
  }
 ],
 "metadata": {
  "kernelspec": {
   "display_name": "Python 3",
   "language": "python",
   "name": "python3"
  },
  "language_info": {
   "codemirror_mode": {
    "name": "ipython",
    "version": 3
   },
   "file_extension": ".py",
   "mimetype": "text/x-python",
   "name": "python",
   "nbconvert_exporter": "python",
   "pygments_lexer": "ipython3",
   "version": "3.8.5"
  }
 },
 "nbformat": 4,
 "nbformat_minor": 4
}
