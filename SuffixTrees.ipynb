{
 "cells": [
  {
   "cell_type": "markdown",
   "metadata": {},
   "source": [
    "## Suffix Trees\n",
    "\n",
    "Before running the code below, install the suffix-tree package.\n",
    "Go to \"File -> New Console for notebook\" and submit \"pip install suffix-tree\".\n"
   ]
  },
  {
   "cell_type": "code",
   "execution_count": 24,
   "metadata": {},
   "outputs": [
    {
     "name": "stdout",
     "output_type": "stream",
     "text": [
      "True\n",
      "False\n"
     ]
    }
   ],
   "source": [
    "from suffix_tree import Tree\n",
    "\n",
    "tree = Tree ({ 'A' : 'xabxac' })\n",
    "print(tree.find ('abx'))\n",
    "print(tree.find ('abc'))"
   ]
  },
  {
   "cell_type": "markdown",
   "metadata": {},
   "source": [
    "#### The package implements a generalized suffix tree (i.e. a tree for a set of strings)"
   ]
  },
  {
   "cell_type": "code",
   "execution_count": 8,
   "metadata": {},
   "outputs": [
    {
     "name": "stdout",
     "output_type": "stream",
     "text": [
      "True\n",
      "[('A', <suffix_tree.util.Path object at 0x7fa9906ca610>), ('B', <suffix_tree.util.Path object at 0x7fa9906cd2b0>), ('C', <suffix_tree.util.Path object at 0x7fa9906cdaf0>)]\n"
     ]
    }
   ],
   "source": [
    "tree = Tree ({ 'A' : 'xabxac',\n",
    "               'B' : 'xbacazbxaz',\n",
    "               'C' : 'bxtzbxa'})\n",
    "\n",
    "#find in any string\n",
    "print(tree.find('xab'))\n",
    "\n",
    "#find in all strings\n",
    "print(tree.find_all(\"bxa\"))"
   ]
  },
  {
   "cell_type": "markdown",
   "metadata": {},
   "source": [
    "## Problem: Longest common substring\n",
    "\n",
    "#### Let $K$ the total number of strings and $n$ the total length. Define $l(k)$ for $k=2,\\dots,K$ $l(k)$ as the length of a longest substring common to at least $k$ of the strings. Use the suffix-tree package for a implementation of an $O(Kn)$ algorithm, that computes the table of $l(k)$ values.\n",
    "\n",
    "#### Help: Recall that in the generalized tree, each node has two identifiers: One for the string and one for the suffix of that string. For any inner node $v$ let $C(v)$ denote the number of different string identifiers occuring at the leaves of the subtree below $v$. How can $l(k)$ be computed using $C(v)$ and the string depths of $v$ for all $v$?\n",
    "\n",
    "###### (An O(n) algorithm is also possible, but requries more work; go ahead if you like)"
   ]
  },
  {
   "cell_type": "code",
   "execution_count": 30,
   "metadata": {},
   "outputs": [
    {
     "name": "stdout",
     "output_type": "stream",
     "text": [
      "2\n",
      "2\n",
      "4\n",
      "5\n",
      "5\n",
      "2\n",
      "4\n",
      "5\n",
      "2\n",
      "4\n",
      "2\n",
      "3\n",
      "4\n",
      "5\n",
      "5\n"
     ]
    }
   ],
   "source": [
    "S = { 'A' : 'sandollar',\n",
    "      'B' : 'sandlot',\n",
    "      'C' : 'handler',\n",
    "      'D' : 'grand',\n",
    "      'E' : 'panrry'}\n",
    "\n",
    "#e.g. l(2)=4 (\"sand\") l(5)=2 (\"an\")\n",
    "\n",
    "T = Tree(S)\n",
    "\n",
    "#traverse the tree\n",
    "#currently only prints the IDs of all leafs, use this as a starting point for computing C(v)\n",
    "def compute_C(u):\n",
    "    ids = set()\n",
    "    if u.is_leaf():\n",
    "        return {u.str_id}\n",
    "    else:\n",
    "        for c in u.children.values():\n",
    "           ids.update(compute_C(c))\n",
    "    u.c_value = len(ids)\n",
    "    return ids\n",
    "        \n",
    "compute_C(T.root)\n",
    "\n",
    "print(T.root.c_value)\n",
    "\n",
    "\n",
    "# String depth via: node.string_depth()\n",
    "# Idea: traverse again and use C(v) and the string-depth of v to compute l(k)\n",
    "# Help: If you are not sure how to handle the \"at least k\", find a solution for \"exactly k\" first\n",
    "    "
   ]
  },
  {
   "cell_type": "code",
   "execution_count": null,
   "metadata": {},
   "outputs": [],
   "source": []
  }
 ],
 "metadata": {
  "kernelspec": {
   "display_name": "Python 3",
   "language": "python",
   "name": "python3"
  },
  "language_info": {
   "codemirror_mode": {
    "name": "ipython",
    "version": 3
   },
   "file_extension": ".py",
   "mimetype": "text/x-python",
   "name": "python",
   "nbconvert_exporter": "python",
   "pygments_lexer": "ipython3",
   "version": "3.8.6"
  }
 },
 "nbformat": 4,
 "nbformat_minor": 4
}
