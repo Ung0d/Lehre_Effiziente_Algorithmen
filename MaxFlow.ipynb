{
 "cells": [
  {
   "cell_type": "markdown",
   "metadata": {},
   "source": [
    "# Angewandtes Finden von maximalen Flüssen und deren Visualisierung"
   ]
  },
  {
   "cell_type": "markdown",
   "metadata": {},
   "source": [
    "# Studierendenprojekte\n",
    "\n",
    "### Studierende $S = \\{S_1, \\dots, S_n\\}$ mit jeweils genau einem Projekt\n",
    "### Professoren $P = \\{P_1, \\dots, P_k\\}$\n",
    "### Für jedes Projekt ist ein Prof. entweder Spezialist oder nicht:\n",
    "### $\\forall i=1,\\dots,n: P$ partitioniert in $Sp_i$ und $NSp_i$\n",
    "### Jeder Prof. $P_j$ kann an höchstens $a_j$ Verteidigungen teilnehmen.\n",
    "### Jeder Studierende stellt sein Projekt vor genau $x$ Profs. vor, die alle Spezialisten sein müssen.\n",
    "\n",
    "### Organisiere die Jury.\n",
    "\n",
    "### Modelliere dieses Problem zunächst als Flussnetzwerk auf Papier.\n",
    "### Implementiere und visualisiere danach."
   ]
  },
  {
   "cell_type": "code",
   "execution_count": 103,
   "metadata": {},
   "outputs": [],
   "source": [
    "import networkx as nx\n",
    "import numpy as np"
   ]
  },
  {
   "cell_type": "code",
   "execution_count": 110,
   "metadata": {},
   "outputs": [],
   "source": [
    "np.random.seed(0)\n",
    "x = 1 #Anzahl der Projekte pro Stud\n",
    "n = 8 #Anzahl Studierende\n",
    "k = 3 #Anzahl Profs\n",
    "_p_spec = 0.5 #Wahrscheinlichkeit, dass ein Prof für ein Projekt Spezialist ist\n",
    "#spec[i] = Menge der Profs, die Spezialisten für Projekt i sind\n",
    "spec = [[j for j in range(k) if np.random.random() < _p_spec] for i in range(n)]\n",
    "#maximale Auslastung der Profs\n",
    "prof_max = [np.random.randint(4)+1 for j in range(k)]"
   ]
  },
  {
   "cell_type": "code",
   "execution_count": 108,
   "metadata": {},
   "outputs": [
    {
     "data": {
      "image/png": "[encoded data removed]",
      "text/plain": [
       "<Figure size 432x288 with 1 Axes>"
      ]
     },
     "metadata": {},
     "output_type": "display_data"
    }
   ],
   "source": [
    "source = 0\n",
    "student_nodes = list(range(1,n+1))\n",
    "prof_nodes = list(range(n+1, n+k+1))\n",
    "sink = n+k+1\n",
    "\n",
    "G = nx.DiGraph()\n",
    "G.add_node(source) #source\n",
    "G.add_nodes_from(student_nodes) #students\n",
    "G.add_nodes_from(prof_nodes) #profs\n",
    "G.add_node(sink) #sink \n",
    "\n",
    "####### \n",
    "####### add edges\n",
    "####### use G.add_edge(u, v, capacity=c) where you choose u,v and c\n",
    "####### \n",
    "\n",
    "### defines a 2D position for every node\n",
    "lin_stud = np.linspace(0,1,n)\n",
    "lin_prof = np.linspace(0,1,k)\n",
    "pos = {source : (0, 0.5), sink : (3, 0.5)}\n",
    "pos.update({i : (1,lin_stud[ni]) for ni,i in enumerate(student_nodes)})\n",
    "pos.update({j : (2, lin_prof[nj]) for nj,j in enumerate(prof_nodes)})\n",
    "\n",
    "### defines a color position for every type of node\n",
    "col = {source : \"g\", sink : \"r\"}\n",
    "col.update({i : \"y\" for i in student_nodes})\n",
    "col.update({j : \"b\" for j in prof_nodes})\n",
    "col = list([col[x] for x in G.nodes])\n",
    "\n",
    "edge_labels = {e : str(c) for e,c in nx.get_edge_attributes(G, \"capacity\").items()}\n",
    "\n",
    "nx.draw(G, pos=pos, node_color=col)\n",
    "_ = nx.draw_networkx_edge_labels(G,pos,edge_labels=edge_labels)"
   ]
  },
  {
   "cell_type": "markdown",
   "metadata": {},
   "source": [
    "### Benutze den Edmonds-Karp Algorithmus, um in deinem Graphen einen maximalen Fluss zu finden und versuche, den Fluss zu visualisieren.\n",
    "### (https://networkx.org/documentation/networkx-1.9/reference/generated/networkx.algorithms.flow.edmonds_karp.html)"
   ]
  },
  {
   "cell_type": "code",
   "execution_count": null,
   "metadata": {},
   "outputs": [],
   "source": []
  },
  {
   "cell_type": "markdown",
   "metadata": {},
   "source": [
    "### Wie findet man jetzt einen min cut?\n",
    "##### Nutze den Rückgabewert (Residual nertwork) of nx.algorithms.flow.edmonds_karp"
   ]
  },
  {
   "cell_type": "code",
   "execution_count": null,
   "metadata": {},
   "outputs": [],
   "source": []
  }
 ],
 "metadata": {
  "kernelspec": {
   "display_name": "Python 3",
   "language": "python",
   "name": "python3"
  },
  "language_info": {
   "codemirror_mode": {
    "name": "ipython",
    "version": 3
   },
   "file_extension": ".py",
   "mimetype": "text/x-python",
   "name": "python",
   "nbconvert_exporter": "python",
   "pygments_lexer": "ipython3",
   "version": "3.8.5"
  }
 },
 "nbformat": 4,
 "nbformat_minor": 4
}
